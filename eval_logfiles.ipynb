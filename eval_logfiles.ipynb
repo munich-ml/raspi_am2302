{
 "cells": [
  {
   "cell_type": "code",
   "execution_count": 28,
   "metadata": {},
   "outputs": [],
   "source": [
    "import os\n",
    "import datetime as dt\n",
    "import pandas as pd\n",
    "import matplotlib.pyplot as plt"
   ]
  },
  {
   "cell_type": "code",
   "execution_count": 25,
   "metadata": {},
   "outputs": [
    {
     "data": {
      "text/html": [
       "<div>\n",
       "<style scoped>\n",
       "    .dataframe tbody tr th:only-of-type {\n",
       "        vertical-align: middle;\n",
       "    }\n",
       "\n",
       "    .dataframe tbody tr th {\n",
       "        vertical-align: top;\n",
       "    }\n",
       "\n",
       "    .dataframe thead th {\n",
       "        text-align: right;\n",
       "    }\n",
       "</style>\n",
       "<table border=\"1\" class=\"dataframe\">\n",
       "  <thead>\n",
       "    <tr style=\"text-align: right;\">\n",
       "      <th></th>\n",
       "      <th>temp23</th>\n",
       "      <th>humi23</th>\n",
       "      <th>temp24</th>\n",
       "      <th>humi24</th>\n",
       "    </tr>\n",
       "    <tr>\n",
       "      <th>datetime</th>\n",
       "      <th></th>\n",
       "      <th></th>\n",
       "      <th></th>\n",
       "      <th></th>\n",
       "    </tr>\n",
       "  </thead>\n",
       "  <tbody>\n",
       "    <tr>\n",
       "      <th>2022-11-28 20:15:01</th>\n",
       "      <td>4.1</td>\n",
       "      <td>81.3</td>\n",
       "      <td>4.1</td>\n",
       "      <td>87.1</td>\n",
       "    </tr>\n",
       "    <tr>\n",
       "      <th>2022-11-28 20:30:01</th>\n",
       "      <td>4.1</td>\n",
       "      <td>81.7</td>\n",
       "      <td>4.1</td>\n",
       "      <td>87.3</td>\n",
       "    </tr>\n",
       "    <tr>\n",
       "      <th>2022-11-28 20:45:01</th>\n",
       "      <td>4.1</td>\n",
       "      <td>82.6</td>\n",
       "      <td>4.1</td>\n",
       "      <td>87.7</td>\n",
       "    </tr>\n",
       "    <tr>\n",
       "      <th>2022-11-28 21:00:01</th>\n",
       "      <td>4.1</td>\n",
       "      <td>82.5</td>\n",
       "      <td>4.1</td>\n",
       "      <td>88.1</td>\n",
       "    </tr>\n",
       "    <tr>\n",
       "      <th>2022-11-28 21:15:01</th>\n",
       "      <td>4.1</td>\n",
       "      <td>82.6</td>\n",
       "      <td>4.1</td>\n",
       "      <td>88.0</td>\n",
       "    </tr>\n",
       "  </tbody>\n",
       "</table>\n",
       "</div>"
      ],
      "text/plain": [
       "                     temp23  humi23  temp24  humi24\n",
       "datetime                                           \n",
       "2022-11-28 20:15:01     4.1    81.3     4.1    87.1\n",
       "2022-11-28 20:30:01     4.1    81.7     4.1    87.3\n",
       "2022-11-28 20:45:01     4.1    82.6     4.1    87.7\n",
       "2022-11-28 21:00:01     4.1    82.5     4.1    88.1\n",
       "2022-11-28 21:15:01     4.1    82.6     4.1    88.0"
      ]
     },
     "execution_count": 25,
     "metadata": {},
     "output_type": "execute_result"
    }
   ],
   "source": [
    "df = pd.DataFrame()\n",
    "for fn in os.listdir(\"logfiles\"):\n",
    "    if fn.endswith(\".csv\"):\n",
    "        df = pd.concat([df, pd.read_csv(os.path.join(\"logfiles\", fn))])\n",
    "df.datetime = [dt.datetime.strptime(t, \"%Y%m%d_%H%M%S\") for t in df.datetime]\n",
    "df.set_index(\"datetime\", inplace=True)\n",
    "df.tail()"
   ]
  },
  {
   "cell_type": "code",
   "execution_count": 26,
   "metadata": {},
   "outputs": [
    {
     "data": {
      "text/html": [
       "<div>\n",
       "<style scoped>\n",
       "    .dataframe tbody tr th:only-of-type {\n",
       "        vertical-align: middle;\n",
       "    }\n",
       "\n",
       "    .dataframe tbody tr th {\n",
       "        vertical-align: top;\n",
       "    }\n",
       "\n",
       "    .dataframe thead th {\n",
       "        text-align: right;\n",
       "    }\n",
       "</style>\n",
       "<table border=\"1\" class=\"dataframe\">\n",
       "  <thead>\n",
       "    <tr style=\"text-align: right;\">\n",
       "      <th></th>\n",
       "      <th>temp23</th>\n",
       "      <th>temp24</th>\n",
       "    </tr>\n",
       "    <tr>\n",
       "      <th>datetime</th>\n",
       "      <th></th>\n",
       "      <th></th>\n",
       "    </tr>\n",
       "  </thead>\n",
       "  <tbody>\n",
       "    <tr>\n",
       "      <th>2022-11-28 20:15:01</th>\n",
       "      <td>4.1</td>\n",
       "      <td>4.1</td>\n",
       "    </tr>\n",
       "    <tr>\n",
       "      <th>2022-11-28 20:30:01</th>\n",
       "      <td>4.1</td>\n",
       "      <td>4.1</td>\n",
       "    </tr>\n",
       "    <tr>\n",
       "      <th>2022-11-28 20:45:01</th>\n",
       "      <td>4.1</td>\n",
       "      <td>4.1</td>\n",
       "    </tr>\n",
       "    <tr>\n",
       "      <th>2022-11-28 21:00:01</th>\n",
       "      <td>4.1</td>\n",
       "      <td>4.1</td>\n",
       "    </tr>\n",
       "    <tr>\n",
       "      <th>2022-11-28 21:15:01</th>\n",
       "      <td>4.1</td>\n",
       "      <td>4.1</td>\n",
       "    </tr>\n",
       "  </tbody>\n",
       "</table>\n",
       "</div>"
      ],
      "text/plain": [
       "                     temp23  temp24\n",
       "datetime                           \n",
       "2022-11-28 20:15:01     4.1     4.1\n",
       "2022-11-28 20:30:01     4.1     4.1\n",
       "2022-11-28 20:45:01     4.1     4.1\n",
       "2022-11-28 21:00:01     4.1     4.1\n",
       "2022-11-28 21:15:01     4.1     4.1"
      ]
     },
     "execution_count": 26,
     "metadata": {},
     "output_type": "execute_result"
    }
   ],
   "source": [
    "temps = df[[c for c in df.columns if c.startswith(\"temp\")]]\n",
    "temps.tail()"
   ]
  },
  {
   "cell_type": "code",
   "execution_count": 30,
   "metadata": {},
   "outputs": [
    {
     "data": {
      "image/png": "[encoded data removed]",
      "text/plain": [
       "<Figure size 864x288 with 1 Axes>"
      ]
     },
     "metadata": {
      "needs_background": "light"
     },
     "output_type": "display_data"
    }
   ],
   "source": [
    "temps.plot(figsize=(12,4), grid=True);"
   ]
  },
  {
   "cell_type": "code",
   "execution_count": null,
   "metadata": {},
   "outputs": [],
   "source": []
  }
 ],
 "metadata": {
  "kernelspec": {
   "display_name": "Python 3.7.9 ('plotly_env')",
   "language": "python",
   "name": "python3"
  },
  "language_info": {
   "codemirror_mode": {
    "name": "ipython",
    "version": 3
   },
   "file_extension": ".py",
   "mimetype": "text/x-python",
   "name": "python",
   "nbconvert_exporter": "python",
   "pygments_lexer": "ipython3",
   "version": "3.7.9"
  },
  "orig_nbformat": 4,
  "vscode": {
   "interpreter": {
    "hash": "99a32b8e90907d15b68966f56ddf8976f60d6838c1489379362f65a518ade5ee"
   }
  }
 },
 "nbformat": 4,
 "nbformat_minor": 2
}
